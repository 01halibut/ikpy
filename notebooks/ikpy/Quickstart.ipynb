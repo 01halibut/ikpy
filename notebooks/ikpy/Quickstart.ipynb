{
 "cells": [
  {
   "cell_type": "markdown",
   "metadata": {},
   "source": [
    "Import the IKPy module"
   ]
  },
  {
   "cell_type": "code",
   "execution_count": 1,
   "metadata": {
    "collapsed": true
   },
   "outputs": [],
   "source": [
    "import ikpy"
   ]
  },
  {
   "cell_type": "markdown",
   "metadata": {},
   "source": [
    "Create a chain from a URDF file"
   ]
  },
  {
   "cell_type": "code",
   "execution_count": 2,
   "metadata": {
    "collapsed": false,
    "scrolled": false
   },
   "outputs": [
    {
     "name": "stdout",
     "output_type": "stream",
     "text": [
      "None\n",
      "<Element 'joint' at 0x7fbd1884c0e8>\n",
      "<Element 'joint' at 0x7fbd1884c728>\n",
      "<Element 'joint' at 0x7fbd1884cd68>\n",
      "<Element 'joint' at 0x7fbd187d1408>\n",
      "<Element 'joint' at 0x7fbd187d1a48>\n",
      "<Element 'joint' at 0x7fbd187d70e8>\n"
     ]
    }
   ],
   "source": [
    "my_chain = ikpy.chain.Chain.from_urdf_file(\"../resources/poppy_ergo.URDF\")"
   ]
  },
  {
   "cell_type": "code",
   "execution_count": 8,
   "metadata": {
    "collapsed": false
   },
   "outputs": [
    {
     "name": "stdout",
     "output_type": "stream",
     "text": [
      "Inverse kinematic optimisation OK, done in 21 iterations\n"
     ]
    },
    {
     "data": {
      "text/plain": [
       "array([  0.00000000e+00,  -7.83311388e-01,  -1.13929769e+00,\n",
       "         8.39373996e-01,   6.05357632e-05,   7.31474063e-01,\n",
       "         0.00000000e+00])"
      ]
     },
     "execution_count": 8,
     "metadata": {},
     "output_type": "execute_result"
    }
   ],
   "source": [
    "my_chain.inverse_kinematics([[1, 0, 0, 0.2],\n",
    "[0, 1, 0, 0.2],\n",
    "[0, 0, 1, 0.2],\n",
    "[0, 0, 0, 1]], [0, 0, 0, 0, 0, 0, 0])"
   ]
  },
  {
   "cell_type": "code",
   "execution_count": 5,
   "metadata": {
    "collapsed": false
   },
   "outputs": [
    {
     "data": {
      "text/plain": [
       "7"
      ]
     },
     "execution_count": 5,
     "metadata": {},
     "output_type": "execute_result"
    }
   ],
   "source": [
    "len(my_chain.links)"
   ]
  },
  {
   "cell_type": "code",
   "execution_count": 10,
   "metadata": {
    "collapsed": false
   },
   "outputs": [
    {
     "data": {
      "text/plain": [
       "array([[ -7.05670648e-01,   6.43585169e-01,   2.96356318e-01,\n",
       "          1.49993875e-01],\n",
       "       [  7.08540003e-01,   6.40968301e-01,   2.95179100e-01,\n",
       "          1.50195323e-01],\n",
       "       [  1.78851283e-05,   4.18279534e-01,  -9.08318354e-01,\n",
       "          1.67503064e-01],\n",
       "       [  0.00000000e+00,   0.00000000e+00,   0.00000000e+00,\n",
       "          1.00000000e+00]])"
      ]
     },
     "execution_count": 10,
     "metadata": {},
     "output_type": "execute_result"
    }
   ],
   "source": [
    "my_chain.forward_kinematics([  0.00000000e+00,  -7.83311388e-01,  -1.13929769e+00,\n",
    "         8.39373996e-01,   6.05357632e-05,   7.31474063e-01,\n",
    "         0.00000000e+00])"
   ]
  },
  {
   "cell_type": "code",
   "execution_count": null,
   "metadata": {
    "collapsed": true
   },
   "outputs": [],
   "source": []
  }
 ],
 "metadata": {
  "kernelspec": {
   "display_name": "Python 3",
   "language": "python",
   "name": "python3"
  },
  "language_info": {
   "codemirror_mode": {
    "name": "ipython",
    "version": 3
   },
   "file_extension": ".py",
   "mimetype": "text/x-python",
   "name": "python",
   "nbconvert_exporter": "python",
   "pygments_lexer": "ipython3",
   "version": "3.5.1"
  }
 },
 "nbformat": 4,
 "nbformat_minor": 0
}
