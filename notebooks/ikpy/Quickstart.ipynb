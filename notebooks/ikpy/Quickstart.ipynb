{
 "cells": [
  {
   "cell_type": "markdown",
   "metadata": {},
   "source": [
    "Import the IKPy module"
   ]
  },
  {
   "cell_type": "code",
   "execution_count": 1,
   "metadata": {
    "collapsed": true
   },
   "outputs": [],
   "source": [
    "import ikpy\n",
    "import numpy as np\n",
    "from ikpy import plot_utils"
   ]
  },
  {
   "cell_type": "markdown",
   "metadata": {},
   "source": [
    "Create a chain from a URDF file"
   ]
  },
  {
   "cell_type": "code",
   "execution_count": 2,
   "metadata": {
    "collapsed": false,
    "scrolled": false
   },
   "outputs": [],
   "source": [
    "my_chain = ikpy.chain.Chain.from_urdf_file(\"../../resources/poppy_ergo.URDF\")"
   ]
  },
  {
   "cell_type": "markdown",
   "metadata": {},
   "source": [
    "Prepare your desired position as a 4x4 matrix. Here we only consider position, not orientation of the chain."
   ]
  },
  {
   "cell_type": "code",
   "execution_count": 3,
   "metadata": {
    "collapsed": true
   },
   "outputs": [],
   "source": [
    "target_vector = [ 0.1, -0.2, 0.1]\n",
    "target_frame = np.eye(4)\n",
    "target_frame[:3, 3] = target_vector"
   ]
  },
  {
   "cell_type": "code",
   "execution_count": 4,
   "metadata": {
    "collapsed": false
   },
   "outputs": [
    {
     "name": "stdout",
     "output_type": "stream",
     "text": [
      "Inverse kinematic optimisation OK, done in 30 iterations\n",
      "The angles of each joints are :  [ 0.          0.77375195 -1.26611132  0.3230264  -0.75260301  1.03033218\n",
      "  0.        ]\n"
     ]
    }
   ],
   "source": [
    "print(\"The angles of each joints are : \", my_chain.inverse_kinematics(target_frame))"
   ]
  },
  {
   "cell_type": "markdown",
   "metadata": {
    "collapsed": true
   },
   "source": [
    "You can check that the Inverse Kinematics is correct by comparing with the original position vector : "
   ]
  },
  {
   "cell_type": "code",
   "execution_count": 5,
   "metadata": {
    "collapsed": false
   },
   "outputs": [
    {
     "name": "stdout",
     "output_type": "stream",
     "text": [
      "Inverse kinematic optimisation OK, done in 30 iterations\n",
      "Computed position vector : [ 0.0999999  -0.1999999   0.09999988], original position vector : [ 0.1 -0.2  0.1]\n"
     ]
    }
   ],
   "source": [
    "real_frame = my_chain.forward_kinematics(my_chain.inverse_kinematics(target_frame))\n",
    "print(\"Computed position vector : %s, original position vector : %s\" % (real_frame[:3, 3], target_frame[:3, 3]))"
   ]
  },
  {
   "cell_type": "markdown",
   "metadata": {},
   "source": [
    "And finally plot the result : "
   ]
  },
  {
   "cell_type": "code",
   "execution_count": 8,
   "metadata": {
    "collapsed": false
   },
   "outputs": [
    {
     "name": "stdout",
     "output_type": "stream",
     "text": [
      "Inverse kinematic optimisation OK, done in 30 iterations\n"
     ]
    }
   ],
   "source": [
    "ax = plot_utils.init_3d_figure()\n",
    "my_chain.plot(my_chain.inverse_kinematics(target_frame), ax, target=target_vector)\n",
    "plot_utils.show_figure()"
   ]
  },
  {
   "cell_type": "markdown",
   "metadata": {},
   "source": [
    "You're done! Go to the next [section](https://github.com/Phylliade/ikpy/tree/master/src/ikpy/README.md) to understand the general concepts of the lib"
   ]
  }
 ],
 "metadata": {
  "kernelspec": {
   "display_name": "Python 3",
   "language": "python",
   "name": "python3"
  },
  "language_info": {
   "codemirror_mode": {
    "name": "ipython",
    "version": 3
   },
   "file_extension": ".py",
   "mimetype": "text/x-python",
   "name": "python",
   "nbconvert_exporter": "python",
   "pygments_lexer": "ipython3",
   "version": "3.5.1"
  }
 },
 "nbformat": 4,
 "nbformat_minor": 0
}
